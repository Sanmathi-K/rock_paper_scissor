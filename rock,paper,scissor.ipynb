{
 "cells": [
  {
   "cell_type": "code",
   "execution_count": 1,
   "metadata": {},
   "outputs": [
    {
     "name": "stdout",
     "output_type": "stream",
     "text": [
      "Computer picked scissors.\n",
      "You won!\n",
      "Computer picked paper.\n",
      "You lost!\n",
      "Computer picked paper.\n",
      "You lost!\n",
      "Computer picked scissors.\n",
      "You lost!\n",
      "You won 1 times.\n",
      "The computer won 3 times.\n",
      "Goodbye!\n"
     ]
    }
   ],
   "source": [
    "import random\n",
    "user_win = 0\n",
    "computer_win = 0\n",
    "options = [\"rock\", \"paper\", \"scissors\"]\n",
    "while True:\n",
    "    user_input=input(\"Type Rock/Paper/Scissors or Q to quit: \").lower()\n",
    "    if user_input==\"q\":\n",
    "        break\n",
    "    if user_input not in options:\n",
    "        continue\n",
    "    random_no=random.randint(0, 2)\n",
    "    # rock: 0, paper: 1, scissors: 2\n",
    "    computer_pick=options[random_no]\n",
    "    print(\"Computer picked\", computer_pick + \".\")\n",
    "\n",
    "    if user_input == \"rock\" and computer_pick==\"scissors\":\n",
    "        print(\"You won!\")\n",
    "        user_win+= 1\n",
    "    elif user_input == \"paper\" and computer_pick==\"rock\":\n",
    "        print(\"You won!\")\n",
    "        user_win+=1\n",
    "    elif user_input==\"scissors\" and computer_pick==\"paper\":\n",
    "        print(\"You won!\")\n",
    "        user_win+=1\n",
    "    else:\n",
    "        print(\"You lost!\")\n",
    "        computer_win+=1\n",
    "\n",
    "print(\"You won\", user_win,\"times.\")\n",
    "print(\"The computer won\",computer_win,\"times.\")\n",
    "print(\"Goodbye!\")"
   ]
  }
 ],
 "metadata": {
  "kernelspec": {
   "display_name": "Python 3",
   "language": "python",
   "name": "python3"
  },
  "language_info": {
   "codemirror_mode": {
    "name": "ipython",
    "version": 3
   },
   "file_extension": ".py",
   "mimetype": "text/x-python",
   "name": "python",
   "nbconvert_exporter": "python",
   "pygments_lexer": "ipython3",
   "version": "3.12.4"
  }
 },
 "nbformat": 4,
 "nbformat_minor": 2
}
